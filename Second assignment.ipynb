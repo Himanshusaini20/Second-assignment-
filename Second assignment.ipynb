{
 "cells": [
  {
   "cell_type": "code",
   "execution_count": 1,
   "id": "c744d35c-6a3a-4754-8695-eb8fc01a9955",
   "metadata": {},
   "outputs": [],
   "source": [
    "# Q:1 How do you comment in Phython ? What are the different types of comment? "
   ]
  },
  {
   "cell_type": "code",
   "execution_count": 3,
   "id": "605af6b4-b917-4984-a0bb-f9655ee63f37",
   "metadata": {},
   "outputs": [],
   "source": [
    "# my name is Himanshu."
   ]
  },
  {
   "cell_type": "code",
   "execution_count": 8,
   "id": "f8de9339-4ad4-4570-a4bf-f5e65132fd65",
   "metadata": {},
   "outputs": [
    {
     "data": {
      "text/plain": [
       "' My name is Himanshu.\\n I lives in Saharanpur.\\n I am complete class 12th and now iam in B.com 1st year. '"
      ]
     },
     "execution_count": 8,
     "metadata": {},
     "output_type": "execute_result"
    }
   ],
   "source": [
    "''' My name is Himanshu.\n",
    " I lives in Saharanpur.\n",
    " I am complete class 12th and now iam in B.com 1st year. '''"
   ]
  },
  {
   "cell_type": "code",
   "execution_count": 9,
   "id": "a889e6a1-5f73-4d14-9c9f-fc46eae8c74c",
   "metadata": {},
   "outputs": [],
   "source": [
    "# My name is Himanshu.\n",
    "# I lives in Saharanpur.\n",
    "# I am complete class 12th and now iam in B.com 1st year. "
   ]
  },
  {
   "cell_type": "code",
   "execution_count": 10,
   "id": "065cecd2-60d3-4b42-8bce-9fc85ac02750",
   "metadata": {},
   "outputs": [],
   "source": [
    "# Q:2 What are the variables in Phython? How do you declare and assign valuse to variables?   "
   ]
  },
  {
   "cell_type": "code",
   "execution_count": 11,
   "id": "3d502283-06a8-47e8-80ff-1bfe4f331ad4",
   "metadata": {},
   "outputs": [],
   "source": [
    " a=10 "
   ]
  },
  {
   "cell_type": "code",
   "execution_count": 12,
   "id": "f693392e-f19b-445a-b63c-ffa2c9f6a5a4",
   "metadata": {},
   "outputs": [],
   "source": [
    "# there a is my variable. And 10 is value of a ."
   ]
  },
  {
   "cell_type": "code",
   "execution_count": 13,
   "id": "be3b2111-0351-4308-8a2e-b190a4514d06",
   "metadata": {},
   "outputs": [],
   "source": [
    "# Q:3 how do you convert one data type to another in Phython?"
   ]
  },
  {
   "cell_type": "code",
   "execution_count": 24,
   "id": "8c90c1d3-cd54-4171-bd68-92bf3445e027",
   "metadata": {},
   "outputs": [],
   "source": [
    "b=str(28)"
   ]
  },
  {
   "cell_type": "code",
   "execution_count": 25,
   "id": "a05c6b92-6094-47a6-9f13-528d2c148275",
   "metadata": {},
   "outputs": [
    {
     "data": {
      "text/plain": [
       "str"
      ]
     },
     "execution_count": 25,
     "metadata": {},
     "output_type": "execute_result"
    }
   ],
   "source": [
    "type(b)"
   ]
  },
  {
   "cell_type": "code",
   "execution_count": 26,
   "id": "967761d4-07b8-4b0b-be19-3bca1a6e2ea5",
   "metadata": {},
   "outputs": [
    {
     "data": {
      "text/plain": [
       "'28'"
      ]
     },
     "execution_count": 26,
     "metadata": {},
     "output_type": "execute_result"
    }
   ],
   "source": [
    "b"
   ]
  },
  {
   "cell_type": "code",
   "execution_count": 28,
   "id": "dd2ca8b1-04e9-48b5-9d61-682ddf162e88",
   "metadata": {},
   "outputs": [],
   "source": [
    "# How do you write and execute a Phython script from the command line?"
   ]
  },
  {
   "cell_type": "code",
   "execution_count": 30,
   "id": "d646f9e9-8bfc-426e-8a78-36aae4a8ee2e",
   "metadata": {},
   "outputs": [
    {
     "name": "stdout",
     "output_type": "stream",
     "text": [
      "My name is Himanshu\n"
     ]
    }
   ],
   "source": [
    "print('My name is Himanshu')"
   ]
  },
  {
   "cell_type": "code",
   "execution_count": 31,
   "id": "7bebaee2-70f3-4579-bf9a-768ebe353c01",
   "metadata": {},
   "outputs": [],
   "source": [
    "# Q:5 Given a list my_list=[1,2,3,4,5], write the code to slice the list and obtain the sub-list [2,3]. "
   ]
  },
  {
   "cell_type": "code",
   "execution_count": 32,
   "id": "626ea041-705f-43eb-9559-ec87b9b8269b",
   "metadata": {},
   "outputs": [],
   "source": [
    "my_list=[1,2,3,4,5]"
   ]
  },
  {
   "cell_type": "code",
   "execution_count": 33,
   "id": "0c221559-f679-42c9-a602-71f2fd72b142",
   "metadata": {},
   "outputs": [
    {
     "data": {
      "text/plain": [
       "[2, 3]"
      ]
     },
     "execution_count": 33,
     "metadata": {},
     "output_type": "execute_result"
    }
   ],
   "source": [
    "my_list[1:3:1]"
   ]
  },
  {
   "cell_type": "code",
   "execution_count": 34,
   "id": "57610464-1bd5-4056-9d20-ff8d834df92c",
   "metadata": {},
   "outputs": [],
   "source": [
    "# Q:6 What is a complex number in mathematics, and how is it represented in Phython?"
   ]
  },
  {
   "cell_type": "code",
   "execution_count": 35,
   "id": "f19151bf-9c6e-4391-901b-dfc7f72cd576",
   "metadata": {},
   "outputs": [],
   "source": [
    "c=5+8j"
   ]
  },
  {
   "cell_type": "code",
   "execution_count": 36,
   "id": "4602364f-a0f8-44a2-a6ae-95b2277e9f2b",
   "metadata": {},
   "outputs": [
    {
     "data": {
      "text/plain": [
       "complex"
      ]
     },
     "execution_count": 36,
     "metadata": {},
     "output_type": "execute_result"
    }
   ],
   "source": [
    "type(c)"
   ]
  },
  {
   "cell_type": "code",
   "execution_count": 37,
   "id": "c0573968-38bc-4469-87c1-531d901a2a13",
   "metadata": {},
   "outputs": [],
   "source": [
    "# Q:7 What is the correct way to declare a variable named age and assign the value 25 to it?"
   ]
  },
  {
   "cell_type": "code",
   "execution_count": 38,
   "id": "55721519-f7d3-4b04-984f-f295fac4fe35",
   "metadata": {},
   "outputs": [],
   "source": [
    "Age=25"
   ]
  },
  {
   "cell_type": "code",
   "execution_count": 39,
   "id": "df331f4b-0019-484b-949c-30da6924f498",
   "metadata": {},
   "outputs": [
    {
     "data": {
      "text/plain": [
       "25"
      ]
     },
     "execution_count": 39,
     "metadata": {},
     "output_type": "execute_result"
    }
   ],
   "source": [
    "Age"
   ]
  },
  {
   "cell_type": "code",
   "execution_count": 40,
   "id": "2b5e1137-5485-44cf-87b0-33c722d71aaf",
   "metadata": {},
   "outputs": [],
   "source": [
    "# Q:8 Declare a variable named price and assign the value 9.99 to it. What data type does this variable belong to? "
   ]
  },
  {
   "cell_type": "code",
   "execution_count": 41,
   "id": "a7c2f5fc-ea55-4a54-8575-e1e8e221cd5c",
   "metadata": {},
   "outputs": [],
   "source": [
    "price=9.99"
   ]
  },
  {
   "cell_type": "code",
   "execution_count": 42,
   "id": "0fdb0eb4-fb86-478f-888c-82c6521c548a",
   "metadata": {},
   "outputs": [
    {
     "data": {
      "text/plain": [
       "float"
      ]
     },
     "execution_count": 42,
     "metadata": {},
     "output_type": "execute_result"
    }
   ],
   "source": [
    "type(price)"
   ]
  },
  {
   "cell_type": "code",
   "execution_count": 43,
   "id": "b39e77bd-c7da-4964-b58e-fda1e2649384",
   "metadata": {},
   "outputs": [],
   "source": [
    "# Q:9 Create a variable named name and assign your full name to it as a string.How would you print the value of this variable?"
   ]
  },
  {
   "cell_type": "code",
   "execution_count": 44,
   "id": "b2e47722-18ae-495d-9842-5d672512f0cc",
   "metadata": {},
   "outputs": [],
   "source": [
    "name=\"Himanshu Saini\""
   ]
  },
  {
   "cell_type": "code",
   "execution_count": 45,
   "id": "1e9c7488-1e59-45e7-84cd-f13cc28d1465",
   "metadata": {},
   "outputs": [
    {
     "name": "stdout",
     "output_type": "stream",
     "text": [
      "Himanshu Saini\n"
     ]
    }
   ],
   "source": [
    "print(name)"
   ]
  },
  {
   "cell_type": "code",
   "execution_count": 46,
   "id": "80c2702e-83ab-4fb4-b482-9d83423a8c49",
   "metadata": {},
   "outputs": [],
   "source": [
    "# Q:10 Given the string \"Hello, World!\",extract the substring \"World\"."
   ]
  },
  {
   "cell_type": "code",
   "execution_count": 55,
   "id": "242d41c9-2e73-4be8-93f8-6d52dffcf030",
   "metadata": {},
   "outputs": [
    {
     "name": "stdout",
     "output_type": "stream",
     "text": [
      "World\n"
     ]
    }
   ],
   "source": [
    "string=\"Hello, World!\"\n",
    "print(string[7:12])"
   ]
  },
  {
   "cell_type": "code",
   "execution_count": 56,
   "id": "b40ba2d2-a14b-429a-be12-010a5c955df8",
   "metadata": {},
   "outputs": [],
   "source": [
    "# Q:11 Create a variable named \"is_student\" and assign it a boolean value indicating weather you are currently a student or not."
   ]
  },
  {
   "cell_type": "code",
   "execution_count": 58,
   "id": "dd16ba4a-1fac-436b-99ce-7334a4fd9707",
   "metadata": {},
   "outputs": [
    {
     "name": "stdout",
     "output_type": "stream",
     "text": [
      "True\n"
     ]
    }
   ],
   "source": [
    "is_student=True\n",
    "print(is_student)"
   ]
  },
  {
   "cell_type": "code",
   "execution_count": null,
   "id": "3d7d3b17-e277-40d4-8f80-756f0d4deb4f",
   "metadata": {},
   "outputs": [],
   "source": []
  }
 ],
 "metadata": {
  "kernelspec": {
   "display_name": "Python 3 (ipykernel)",
   "language": "python",
   "name": "python3"
  },
  "language_info": {
   "codemirror_mode": {
    "name": "ipython",
    "version": 3
   },
   "file_extension": ".py",
   "mimetype": "text/x-python",
   "name": "python",
   "nbconvert_exporter": "python",
   "pygments_lexer": "ipython3",
   "version": "3.10.8"
  }
 },
 "nbformat": 4,
 "nbformat_minor": 5
}
